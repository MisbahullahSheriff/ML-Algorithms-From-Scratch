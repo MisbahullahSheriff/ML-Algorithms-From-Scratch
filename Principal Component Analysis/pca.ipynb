{
  "nbformat": 4,
  "nbformat_minor": 0,
  "metadata": {
    "colab": {
      "provenance": []
    },
    "kernelspec": {
      "name": "python3",
      "display_name": "Python 3"
    },
    "language_info": {
      "name": "python"
    }
  },
  "cells": [
    {
      "cell_type": "markdown",
      "source": [
        "# Principal Component Analysis\n",
        "- This notebook contains the code to implement the Principal Component Analysis algorithm from scratch using `Eigen Decomposition`"
      ],
      "metadata": {
        "id": "6EVsa_etfNxg"
      }
    },
    {
      "cell_type": "markdown",
      "source": [
        "## Importing Libraries"
      ],
      "metadata": {
        "id": "4yhxp2yGfYjF"
      }
    },
    {
      "cell_type": "code",
      "execution_count": 1,
      "metadata": {
        "id": "au5CvYFketur"
      },
      "outputs": [],
      "source": [
        "import numpy as np\n",
        "\n",
        "import matplotlib.pyplot as plt\n",
        "\n",
        "from sklearn.datasets import fetch_openml"
      ]
    },
    {
      "cell_type": "markdown",
      "source": [
        "## Custom Class"
      ],
      "metadata": {
        "id": "MdHcEE5Pfi-M"
      }
    },
    {
      "cell_type": "code",
      "source": [
        "class PCA:\n",
        "\n",
        "  def __init__(self,\n",
        "               n_components=5,\n",
        "               random_state=None):\n",
        "    \"\"\"\n",
        "    Parameters:\n",
        "    -----------\n",
        "\n",
        "    n_components: int\n",
        "                  The no. of principal components to determine\n",
        "\n",
        "    random_state: int\n",
        "                  For controlling the randomness and reproducibility of results across multiple runs\n",
        "    \"\"\"\n",
        "    self.n_components = n_components\n",
        "    self.random_state = random_state\n",
        "\n",
        "\n",
        "  def plot_explained_variance(self, figsize=(6, 4)):\n",
        "    plt.figure(figsize=figsize)\n",
        "    x_range = range(1, len(self.total_explained_variance_ratio_) + 1)\n",
        "    plt.plot(x_range,\n",
        "             np.cumsum(self.total_explained_variance_ratio_),\n",
        "             linewidth=2)\n",
        "    plt.xlabel(\"No. of Principal Components (n)\")\n",
        "    plt.ylabel(\"Explained Variance Ratio\")\n",
        "    plt.title(\"Explained Variance vs No. of Components\")\n",
        "    plt.grid(True)\n",
        "    plt.tight_layout()\n",
        "    plt.show()\n",
        "\n",
        "\n",
        "  def fit(self, X, y=None):\n",
        "    \"\"\"\n",
        "    This function will train a PCA model\n",
        "    \"\"\"\n",
        "    if self.random_state:\n",
        "      np.random.seed(self.random_state)\n",
        "\n",
        "    self.means_ = np.mean(X, axis=0)\n",
        "    X_centered = X - self.means_\n",
        "    S = np.dot(X_centered.T, X_centered)\n",
        "    eigen_values, eigen_vectors = np.linalg.eigh(S)\n",
        "\n",
        "    self.components_ = eigen_vectors[:, ::-1][:, :self.n_components]\n",
        "    self.total_explained_variance_ratio_ = eigen_values[::-1] / np.sum(eigen_values)\n",
        "    self.explained_variance_ratio_ = self.total_explained_variance_ratio_[:self.n_components]\n",
        "    print(\"> Successfully Trained the PCA model!\\n\")\n",
        "    return self\n",
        "\n",
        "\n",
        "  def transform(self, X):\n",
        "    \"\"\"\n",
        "    This function will reduce the dimensionality of the dataset\n",
        "    \"\"\"\n",
        "    X_centered = X - self.means_\n",
        "    return np.dot(X_centered, self.components_)\n",
        "\n",
        "\n",
        "  def inverse_transform(self, X):\n",
        "    \"\"\"\n",
        "    This function will reconstruct the transformed dataset\n",
        "    \"\"\"\n",
        "    return np.dot(X, self.n_components_.T) + self.means_"
      ],
      "metadata": {
        "id": "IlONquxgfgMB"
      },
      "execution_count": 32,
      "outputs": []
    },
    {
      "cell_type": "markdown",
      "source": [
        "## Getting the Data"
      ],
      "metadata": {
        "id": "vHtAxNfcfnbC"
      }
    },
    {
      "cell_type": "code",
      "source": [
        "X, y = fetch_openml(\"mnist_784\",\n",
        "                    version=1,\n",
        "                    return_X_y=True,\n",
        "                    parser=\"auto\")\n",
        "\n",
        "print(X.shape, y.shape)"
      ],
      "metadata": {
        "colab": {
          "base_uri": "https://localhost:8080/"
        },
        "id": "6TsclBfofkAx",
        "outputId": "b7c4ce6b-3fe5-4e5c-9461-e55c705880d6"
      },
      "execution_count": 33,
      "outputs": [
        {
          "output_type": "stream",
          "name": "stdout",
          "text": [
            "(70000, 784) (70000,)\n"
          ]
        }
      ]
    },
    {
      "cell_type": "code",
      "source": [
        "np.bincount(y)"
      ],
      "metadata": {
        "colab": {
          "base_uri": "https://localhost:8080/"
        },
        "id": "gKUu4v4kgx8K",
        "outputId": "381f4b80-fd30-4a9a-d021-a8bfffd3467b"
      },
      "execution_count": 34,
      "outputs": [
        {
          "output_type": "execute_result",
          "data": {
            "text/plain": [
              "array([6903, 7877, 6990, 7141, 6824, 6313, 6876, 7293, 6825, 6958])"
            ]
          },
          "metadata": {},
          "execution_count": 34
        }
      ]
    },
    {
      "cell_type": "code",
      "source": [
        "print(np.unique(y))\n",
        "print(len(np.unique(y)))"
      ],
      "metadata": {
        "colab": {
          "base_uri": "https://localhost:8080/"
        },
        "id": "N9XrHXFgfj9Y",
        "outputId": "421be64b-d9cd-422a-b624-fb82fbf08764"
      },
      "execution_count": 35,
      "outputs": [
        {
          "output_type": "stream",
          "name": "stdout",
          "text": [
            "['0' '1' '2' '3' '4' '5' '6' '7' '8' '9']\n",
            "10\n"
          ]
        }
      ]
    },
    {
      "cell_type": "markdown",
      "source": [
        "- This dataset contains 784 features and 10 unique output class labels"
      ],
      "metadata": {
        "id": "PW1vqTsvf7tZ"
      }
    },
    {
      "cell_type": "markdown",
      "source": [
        "## Training the Model"
      ],
      "metadata": {
        "id": "h1MyzRYOgJ9o"
      }
    },
    {
      "cell_type": "code",
      "source": [
        "pca = PCA(n_components=80)\n",
        "pca.fit(X)"
      ],
      "metadata": {
        "colab": {
          "base_uri": "https://localhost:8080/"
        },
        "id": "rfP6a9BBfj7l",
        "outputId": "51e196e6-e97f-40b8-f7ac-fd707c8fdce6"
      },
      "execution_count": 37,
      "outputs": [
        {
          "output_type": "stream",
          "name": "stdout",
          "text": [
            "> Successfully Trained the PCA model!\n",
            "\n"
          ]
        },
        {
          "output_type": "execute_result",
          "data": {
            "text/plain": [
              "<__main__.PCA at 0x7f399bd4a560>"
            ]
          },
          "metadata": {},
          "execution_count": 37
        }
      ]
    },
    {
      "cell_type": "code",
      "source": [
        "np.sum(pca.total_explained_variance_ratio_)"
      ],
      "metadata": {
        "colab": {
          "base_uri": "https://localhost:8080/"
        },
        "id": "C3QL0T63nvuB",
        "outputId": "d1454855-1db4-44ef-d222-90400c1879e4"
      },
      "execution_count": 38,
      "outputs": [
        {
          "output_type": "execute_result",
          "data": {
            "text/plain": [
              "1.0"
            ]
          },
          "metadata": {},
          "execution_count": 38
        }
      ]
    },
    {
      "cell_type": "code",
      "source": [
        "pca.explained_variance_ratio_"
      ],
      "metadata": {
        "colab": {
          "base_uri": "https://localhost:8080/"
        },
        "id": "xIHlcEzsfj26",
        "outputId": "43c7bc93-b50f-40f0-d069-970552472162"
      },
      "execution_count": 39,
      "outputs": [
        {
          "output_type": "execute_result",
          "data": {
            "text/plain": [
              "array([0.09746116, 0.07155445, 0.06149531, 0.05403385, 0.04888934,\n",
              "       0.04305227, 0.03278262, 0.02889642, 0.02758364, 0.0234214 ,\n",
              "       0.02106689, 0.02037553, 0.01707064, 0.0169402 , 0.01583382,\n",
              "       0.01486345, 0.01319358, 0.01279014, 0.01187272, 0.01152937,\n",
              "       0.0106604 , 0.01009794, 0.00959151, 0.00909635, 0.00883287,\n",
              "       0.00838818, 0.00809832, 0.00785718, 0.00740262, 0.00690014,\n",
              "       0.00656144, 0.0064547 , 0.00600819, 0.00585612, 0.00566754,\n",
              "       0.00543471, 0.00504717, 0.00487079, 0.00478955, 0.00467594,\n",
              "       0.00454369, 0.00444918, 0.00418217, 0.00396164, 0.00383708,\n",
              "       0.00375785, 0.00361426, 0.00349025, 0.00338732, 0.00319696,\n",
              "       0.00316854, 0.00310145, 0.0029648 , 0.00287101, 0.00282514,\n",
              "       0.00269423, 0.00268392, 0.00256509, 0.00253168, 0.00244648,\n",
              "       0.00239702, 0.00238581, 0.00229234, 0.00220949, 0.0021306 ,\n",
              "       0.00206317, 0.00202781, 0.00195035, 0.00191471, 0.0018855 ,\n",
              "       0.00186976, 0.00180104, 0.00176787, 0.00173359, 0.00164849,\n",
              "       0.00163237, 0.00161408, 0.00154304, 0.0014702 , 0.00142199])"
            ]
          },
          "metadata": {},
          "execution_count": 39
        }
      ]
    },
    {
      "cell_type": "code",
      "source": [
        "np.sum(pca.explained_variance_ratio_)"
      ],
      "metadata": {
        "colab": {
          "base_uri": "https://localhost:8080/"
        },
        "id": "M1IM1MvUnruw",
        "outputId": "ccee2cbd-ee6d-4c0e-c8e0-aac7239c4f37"
      },
      "execution_count": 40,
      "outputs": [
        {
          "output_type": "execute_result",
          "data": {
            "text/plain": [
              "0.8910304372992593"
            ]
          },
          "metadata": {},
          "execution_count": 40
        }
      ]
    },
    {
      "cell_type": "code",
      "source": [
        "pca.components_.shape"
      ],
      "metadata": {
        "colab": {
          "base_uri": "https://localhost:8080/"
        },
        "id": "BbffqQZHfj0A",
        "outputId": "413e7eaf-ba23-45d1-e3aa-c1641b33c84f"
      },
      "execution_count": 41,
      "outputs": [
        {
          "output_type": "execute_result",
          "data": {
            "text/plain": [
              "(784, 80)"
            ]
          },
          "metadata": {},
          "execution_count": 41
        }
      ]
    },
    {
      "cell_type": "code",
      "source": [
        "pca.plot_explained_variance()"
      ],
      "metadata": {
        "colab": {
          "base_uri": "https://localhost:8080/",
          "height": 407
        },
        "id": "9DB1mrmulxl4",
        "outputId": "cca68414-99cd-4761-ad5d-6902022fcc14"
      },
      "execution_count": 42,
      "outputs": [
        {
          "output_type": "display_data",
          "data": {
            "text/plain": [
              "<Figure size 600x400 with 1 Axes>"
            ],
            "image/png": "[encoded data removed]"
          },
          "metadata": {}
        }
      ]
    },
    {
      "cell_type": "code",
      "source": [
        "X_pca = pca.transform(X)\n",
        "X_pca.shape"
      ],
      "metadata": {
        "colab": {
          "base_uri": "https://localhost:8080/"
        },
        "id": "3YQI_SVEfjyD",
        "outputId": "1e2ab10a-f1c0-4fb2-89c1-9d5096d7b3b0"
      },
      "execution_count": 43,
      "outputs": [
        {
          "output_type": "execute_result",
          "data": {
            "text/plain": [
              "(70000, 80)"
            ]
          },
          "metadata": {},
          "execution_count": 43
        }
      ]
    },
    {
      "cell_type": "markdown",
      "source": [
        "## Final Remarks:\n",
        "- The PCA algorithm was successfully implemented from scratch using Python\n",
        "- The model was tested on the `MNIST` dataset comprising:\n",
        " - 70,000 observations\n",
        " - 784 features\n",
        "- From the plot, it can be seen that:\n",
        " - About 100 features can explain 90% of the variance in the entire dataset\n",
        " - About 150 features can explain 95% of the variance in the entire dataset\n",
        "- The dimensionality of any dataset can be reduced to any desired no. of dimensions seamlessly"
      ],
      "metadata": {
        "id": "POb54DksgjcX"
      }
    }
  ]
}